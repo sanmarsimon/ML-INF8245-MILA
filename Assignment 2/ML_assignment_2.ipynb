{
 "cells": [
  {
   "cell_type": "markdown",
   "metadata": {},
   "source": [
    "## Assignment 2"
   ]
  },
  {
   "cell_type": "markdown",
   "metadata": {},
   "source": [
    "## Instructions\n",
    "* This is an individual assignment. You are not allowed to discuss the problems with other students.\n",
    "\n",
    "* Parts of this assignment will be autograded by gradescope. You can use it as immediate feedback to improve your answers. You can resubmit as many times as you want. Please also note that the **public tests are not exhaustive**, meaning that passing the public tests does not necessarily imply that your implementation is correct. It is recommended to test your implementation in your own ways instead of solely relying on the autograder. \n",
    "\n",
    "* All your solution, code, analysis, graphs, explanations should be done in this same notebook.\n",
    "\n",
    "* Please make sure to execute all the cells before you submit the notebook to the gradescope. You will not get points for the plots if they are not generated already.\n",
    "\n",
    "* If you have questions regarding the assignment, you can ask for clarifications in Piazza. You should use the corresponding tag for this assignment.\n",
    "\n",
    "**Warning:** Throughout the assignment, you will be asked to implement certain algorithms. In the solution you submit, do not simply call a library function which performs the entire algorithm for you, this is forbidden, as it would obviously defeat the purpose.  For example, if you were asked to implement the kNN classifier algorithm, do not simply call `sklearn.neighbors.KNeighborsClassifier` on the given data and submit that as your solution. \n",
    "\n",
    "**Note 1: The only exceptions to the warning above are _Question 1.2_ and _Question 2.2_ in which you're allowed to the use SciPy's functions.** Relevant hints are given to you at certain stages of the assignment to help you. \n",
    "\n",
    "\n",
    "## Context\n",
    "In this assigment you will be working with the FashionMNIST dataset, and will learn about implementing the following three classifiers and compare their performance on the FashionMNIST dataset.\n",
    "1. Implement a k-Nearest Neighbour classifier\n",
    "2. Implement a Gaussian Naive Bayes classifier\n",
    "3. Implement a Logisitic Regression classifier"
   ]
  },
  {
   "cell_type": "markdown",
   "metadata": {},
   "source": [
    "The next two cells install and initialize otter-grader. You should run these cells as they are WITHOUT modifying them!"
   ]
  },
  {
   "cell_type": "code",
   "execution_count": 1,
   "metadata": {},
   "outputs": [
    {
     "name": "stdout",
     "output_type": "stream",
     "text": [
      "Requirement already satisfied: otter-grader in /Users/sanmarsimon/opt/anaconda3/envs/INF8245E/lib/python3.10/site-packages (4.0.2)\n",
      "Requirement already satisfied: python-on-whales in /Users/sanmarsimon/opt/anaconda3/envs/INF8245E/lib/python3.10/site-packages (from otter-grader) (0.52.0)\n",
      "Requirement already satisfied: pandas in /Users/sanmarsimon/opt/anaconda3/envs/INF8245E/lib/python3.10/site-packages (from otter-grader) (1.5.0)\n",
      "Requirement already satisfied: wrapt in /Users/sanmarsimon/opt/anaconda3/envs/INF8245E/lib/python3.10/site-packages (from otter-grader) (1.14.1)\n",
      "Requirement already satisfied: jupytext in /Users/sanmarsimon/opt/anaconda3/envs/INF8245E/lib/python3.10/site-packages (from otter-grader) (1.14.1)\n",
      "Requirement already satisfied: google-api-python-client in /Users/sanmarsimon/opt/anaconda3/envs/INF8245E/lib/python3.10/site-packages (from otter-grader) (2.64.0)\n",
      "Requirement already satisfied: gspread in /Users/sanmarsimon/opt/anaconda3/envs/INF8245E/lib/python3.10/site-packages (from otter-grader) (5.5.0)\n",
      "Requirement already satisfied: six in /Users/sanmarsimon/opt/anaconda3/envs/INF8245E/lib/python3.10/site-packages (from otter-grader) (1.16.0)\n",
      "Requirement already satisfied: google-auth-oauthlib in /Users/sanmarsimon/opt/anaconda3/envs/INF8245E/lib/python3.10/site-packages (from otter-grader) (0.5.3)\n",
      "Requirement already satisfied: nbformat in /Users/sanmarsimon/opt/anaconda3/envs/INF8245E/lib/python3.10/site-packages (from otter-grader) (5.6.1)\n",
      "Requirement already satisfied: requests in /Users/sanmarsimon/opt/anaconda3/envs/INF8245E/lib/python3.10/site-packages (from otter-grader) (2.28.1)\n",
      "Requirement already satisfied: click in /Users/sanmarsimon/opt/anaconda3/envs/INF8245E/lib/python3.10/site-packages (from otter-grader) (8.1.3)\n",
      "Requirement already satisfied: fica>=0.2.0 in /Users/sanmarsimon/opt/anaconda3/envs/INF8245E/lib/python3.10/site-packages (from otter-grader) (0.2.0)\n",
      "Requirement already satisfied: PyYAML in /Users/sanmarsimon/opt/anaconda3/envs/INF8245E/lib/python3.10/site-packages (from otter-grader) (6.0)\n",
      "Requirement already satisfied: jinja2 in /Users/sanmarsimon/opt/anaconda3/envs/INF8245E/lib/python3.10/site-packages (from otter-grader) (3.1.2)\n",
      "Requirement already satisfied: dill in /Users/sanmarsimon/opt/anaconda3/envs/INF8245E/lib/python3.10/site-packages (from otter-grader) (0.3.5.1)\n",
      "Requirement already satisfied: sphinx in /Users/sanmarsimon/opt/anaconda3/envs/INF8245E/lib/python3.10/site-packages (from fica>=0.2.0->otter-grader) (5.2.3)\n",
      "Requirement already satisfied: docutils in /Users/sanmarsimon/opt/anaconda3/envs/INF8245E/lib/python3.10/site-packages (from fica>=0.2.0->otter-grader) (0.19)\n",
      "Requirement already satisfied: httplib2<1dev,>=0.15.0 in /Users/sanmarsimon/opt/anaconda3/envs/INF8245E/lib/python3.10/site-packages (from google-api-python-client->otter-grader) (0.20.4)\n",
      "Requirement already satisfied: google-auth-httplib2>=0.1.0 in /Users/sanmarsimon/opt/anaconda3/envs/INF8245E/lib/python3.10/site-packages (from google-api-python-client->otter-grader) (0.1.0)\n",
      "Requirement already satisfied: uritemplate<5,>=3.0.1 in /Users/sanmarsimon/opt/anaconda3/envs/INF8245E/lib/python3.10/site-packages (from google-api-python-client->otter-grader) (4.1.1)\n",
      "Requirement already satisfied: google-auth<3.0.0dev,>=1.19.0 in /Users/sanmarsimon/opt/anaconda3/envs/INF8245E/lib/python3.10/site-packages (from google-api-python-client->otter-grader) (2.12.0)\n",
      "Requirement already satisfied: google-api-core!=2.0.*,!=2.1.*,!=2.2.*,!=2.3.0,<3.0.0dev,>=1.31.5 in /Users/sanmarsimon/opt/anaconda3/envs/INF8245E/lib/python3.10/site-packages (from google-api-python-client->otter-grader) (2.10.2)\n",
      "Requirement already satisfied: requests-oauthlib>=0.7.0 in /Users/sanmarsimon/opt/anaconda3/envs/INF8245E/lib/python3.10/site-packages (from google-auth-oauthlib->otter-grader) (1.3.1)\n",
      "Requirement already satisfied: MarkupSafe>=2.0 in /Users/sanmarsimon/opt/anaconda3/envs/INF8245E/lib/python3.10/site-packages (from jinja2->otter-grader) (2.1.1)\n",
      "Requirement already satisfied: toml in /Users/sanmarsimon/opt/anaconda3/envs/INF8245E/lib/python3.10/site-packages (from jupytext->otter-grader) (0.10.2)\n",
      "Requirement already satisfied: markdown-it-py<3.0.0,>=1.0.0 in /Users/sanmarsimon/opt/anaconda3/envs/INF8245E/lib/python3.10/site-packages (from jupytext->otter-grader) (2.1.0)\n",
      "Requirement already satisfied: mdit-py-plugins in /Users/sanmarsimon/opt/anaconda3/envs/INF8245E/lib/python3.10/site-packages (from jupytext->otter-grader) (0.3.1)\n",
      "Requirement already satisfied: jupyter-core in /Users/sanmarsimon/opt/anaconda3/envs/INF8245E/lib/python3.10/site-packages (from nbformat->otter-grader) (4.11.1)\n",
      "Requirement already satisfied: jsonschema>=2.6 in /Users/sanmarsimon/opt/anaconda3/envs/INF8245E/lib/python3.10/site-packages (from nbformat->otter-grader) (4.16.0)\n",
      "Requirement already satisfied: traitlets>=5.1 in /Users/sanmarsimon/opt/anaconda3/envs/INF8245E/lib/python3.10/site-packages (from nbformat->otter-grader) (5.1.1)\n",
      "Requirement already satisfied: fastjsonschema in /Users/sanmarsimon/opt/anaconda3/envs/INF8245E/lib/python3.10/site-packages (from nbformat->otter-grader) (2.16.2)\n",
      "Requirement already satisfied: pytz>=2020.1 in /Users/sanmarsimon/opt/anaconda3/envs/INF8245E/lib/python3.10/site-packages (from pandas->otter-grader) (2022.4)\n",
      "Requirement already satisfied: numpy>=1.21.0 in /Users/sanmarsimon/opt/anaconda3/envs/INF8245E/lib/python3.10/site-packages (from pandas->otter-grader) (1.22.3)\n",
      "Requirement already satisfied: python-dateutil>=2.8.1 in /Users/sanmarsimon/opt/anaconda3/envs/INF8245E/lib/python3.10/site-packages (from pandas->otter-grader) (2.8.2)\n",
      "Requirement already satisfied: pydantic in /Users/sanmarsimon/opt/anaconda3/envs/INF8245E/lib/python3.10/site-packages (from python-on-whales->otter-grader) (1.10.2)\n",
      "Requirement already satisfied: typer>=0.4.1 in /Users/sanmarsimon/opt/anaconda3/envs/INF8245E/lib/python3.10/site-packages (from python-on-whales->otter-grader) (0.6.1)\n",
      "Requirement already satisfied: tqdm in /Users/sanmarsimon/opt/anaconda3/envs/INF8245E/lib/python3.10/site-packages (from python-on-whales->otter-grader) (4.64.1)\n",
      "Requirement already satisfied: typing-extensions in /Users/sanmarsimon/opt/anaconda3/envs/INF8245E/lib/python3.10/site-packages (from python-on-whales->otter-grader) (4.4.0)\n",
      "Requirement already satisfied: idna<4,>=2.5 in /Users/sanmarsimon/opt/anaconda3/envs/INF8245E/lib/python3.10/site-packages (from requests->otter-grader) (3.4)\n",
      "Requirement already satisfied: urllib3<1.27,>=1.21.1 in /Users/sanmarsimon/opt/anaconda3/envs/INF8245E/lib/python3.10/site-packages (from requests->otter-grader) (1.26.12)\n",
      "Requirement already satisfied: charset-normalizer<3,>=2 in /Users/sanmarsimon/opt/anaconda3/envs/INF8245E/lib/python3.10/site-packages (from requests->otter-grader) (2.1.1)\n",
      "Requirement already satisfied: certifi>=2017.4.17 in /Users/sanmarsimon/opt/anaconda3/envs/INF8245E/lib/python3.10/site-packages (from requests->otter-grader) (2022.9.24)\n",
      "Requirement already satisfied: googleapis-common-protos<2.0dev,>=1.56.2 in /Users/sanmarsimon/opt/anaconda3/envs/INF8245E/lib/python3.10/site-packages (from google-api-core!=2.0.*,!=2.1.*,!=2.2.*,!=2.3.0,<3.0.0dev,>=1.31.5->google-api-python-client->otter-grader) (1.56.4)\n",
      "Requirement already satisfied: protobuf!=3.20.0,!=3.20.1,!=4.21.0,!=4.21.1,!=4.21.2,!=4.21.3,!=4.21.4,!=4.21.5,<5.0.0dev,>=3.19.5 in /Users/sanmarsimon/opt/anaconda3/envs/INF8245E/lib/python3.10/site-packages (from google-api-core!=2.0.*,!=2.1.*,!=2.2.*,!=2.3.0,<3.0.0dev,>=1.31.5->google-api-python-client->otter-grader) (4.21.7)\n",
      "Requirement already satisfied: pyasn1-modules>=0.2.1 in /Users/sanmarsimon/opt/anaconda3/envs/INF8245E/lib/python3.10/site-packages (from google-auth<3.0.0dev,>=1.19.0->google-api-python-client->otter-grader) (0.2.8)\n",
      "Requirement already satisfied: rsa<5,>=3.1.4 in /Users/sanmarsimon/opt/anaconda3/envs/INF8245E/lib/python3.10/site-packages (from google-auth<3.0.0dev,>=1.19.0->google-api-python-client->otter-grader) (4.9)\n",
      "Requirement already satisfied: cachetools<6.0,>=2.0.0 in /Users/sanmarsimon/opt/anaconda3/envs/INF8245E/lib/python3.10/site-packages (from google-auth<3.0.0dev,>=1.19.0->google-api-python-client->otter-grader) (5.2.0)\n",
      "Requirement already satisfied: pyparsing!=3.0.0,!=3.0.1,!=3.0.2,!=3.0.3,<4,>=2.4.2 in /Users/sanmarsimon/opt/anaconda3/envs/INF8245E/lib/python3.10/site-packages (from httplib2<1dev,>=0.15.0->google-api-python-client->otter-grader) (3.0.9)\n",
      "Requirement already satisfied: attrs>=17.4.0 in /Users/sanmarsimon/opt/anaconda3/envs/INF8245E/lib/python3.10/site-packages (from jsonschema>=2.6->nbformat->otter-grader) (22.1.0)\n",
      "Requirement already satisfied: pyrsistent!=0.17.0,!=0.17.1,!=0.17.2,>=0.14.0 in /Users/sanmarsimon/opt/anaconda3/envs/INF8245E/lib/python3.10/site-packages (from jsonschema>=2.6->nbformat->otter-grader) (0.18.1)\n",
      "Requirement already satisfied: mdurl~=0.1 in /Users/sanmarsimon/opt/anaconda3/envs/INF8245E/lib/python3.10/site-packages (from markdown-it-py<3.0.0,>=1.0.0->jupytext->otter-grader) (0.1.2)\n",
      "Requirement already satisfied: oauthlib>=3.0.0 in /Users/sanmarsimon/opt/anaconda3/envs/INF8245E/lib/python3.10/site-packages (from requests-oauthlib>=0.7.0->google-auth-oauthlib->otter-grader) (3.2.1)\n",
      "Requirement already satisfied: snowballstemmer>=2.0 in /Users/sanmarsimon/opt/anaconda3/envs/INF8245E/lib/python3.10/site-packages (from sphinx->fica>=0.2.0->otter-grader) (2.2.0)\n",
      "Requirement already satisfied: sphinxcontrib-htmlhelp>=2.0.0 in /Users/sanmarsimon/opt/anaconda3/envs/INF8245E/lib/python3.10/site-packages (from sphinx->fica>=0.2.0->otter-grader) (2.0.0)\n",
      "Requirement already satisfied: babel>=2.9 in /Users/sanmarsimon/opt/anaconda3/envs/INF8245E/lib/python3.10/site-packages (from sphinx->fica>=0.2.0->otter-grader) (2.10.3)\n",
      "Requirement already satisfied: sphinxcontrib-applehelp in /Users/sanmarsimon/opt/anaconda3/envs/INF8245E/lib/python3.10/site-packages (from sphinx->fica>=0.2.0->otter-grader) (1.0.2)\n",
      "Requirement already satisfied: sphinxcontrib-devhelp in /Users/sanmarsimon/opt/anaconda3/envs/INF8245E/lib/python3.10/site-packages (from sphinx->fica>=0.2.0->otter-grader) (1.0.2)\n",
      "Requirement already satisfied: sphinxcontrib-jsmath in /Users/sanmarsimon/opt/anaconda3/envs/INF8245E/lib/python3.10/site-packages (from sphinx->fica>=0.2.0->otter-grader) (1.0.1)\n",
      "Requirement already satisfied: packaging>=21.0 in /Users/sanmarsimon/opt/anaconda3/envs/INF8245E/lib/python3.10/site-packages (from sphinx->fica>=0.2.0->otter-grader) (21.3)\n",
      "Requirement already satisfied: imagesize>=1.3 in /Users/sanmarsimon/opt/anaconda3/envs/INF8245E/lib/python3.10/site-packages (from sphinx->fica>=0.2.0->otter-grader) (1.4.1)\n",
      "Requirement already satisfied: Pygments>=2.12 in /Users/sanmarsimon/opt/anaconda3/envs/INF8245E/lib/python3.10/site-packages (from sphinx->fica>=0.2.0->otter-grader) (2.13.0)\n",
      "Requirement already satisfied: alabaster<0.8,>=0.7 in /Users/sanmarsimon/opt/anaconda3/envs/INF8245E/lib/python3.10/site-packages (from sphinx->fica>=0.2.0->otter-grader) (0.7.12)\n",
      "Requirement already satisfied: sphinxcontrib-qthelp in /Users/sanmarsimon/opt/anaconda3/envs/INF8245E/lib/python3.10/site-packages (from sphinx->fica>=0.2.0->otter-grader) (1.0.3)\n",
      "Requirement already satisfied: sphinxcontrib-serializinghtml>=1.1.5 in /Users/sanmarsimon/opt/anaconda3/envs/INF8245E/lib/python3.10/site-packages (from sphinx->fica>=0.2.0->otter-grader) (1.1.5)\n",
      "Requirement already satisfied: pyasn1<0.5.0,>=0.4.6 in /Users/sanmarsimon/opt/anaconda3/envs/INF8245E/lib/python3.10/site-packages (from pyasn1-modules>=0.2.1->google-auth<3.0.0dev,>=1.19.0->google-api-python-client->otter-grader) (0.4.8)\n",
      "fatal: destination path 'public' already exists and is not an empty directory.\n"
     ]
    }
   ],
   "source": [
    "!pip install otter-grader\n",
    "!git clone https://github.com/chandar-lab/INF8245e-assignments-public.git public"
   ]
  },
  {
   "cell_type": "code",
   "execution_count": 2,
   "metadata": {},
   "outputs": [],
   "source": [
    "# Initialize Otter\n",
    "import otter\n",
    "grader = otter.Notebook(colab=True, tests_dir='./public/assignment_2_python/tests')"
   ]
  },
  {
   "cell_type": "markdown",
   "metadata": {},
   "source": [
    "The next cells call the necessary libraries for this assignment and contain some helper functions for you to use. "
   ]
  },
  {
   "cell_type": "code",
   "execution_count": 3,
   "metadata": {},
   "outputs": [],
   "source": [
    "# Import Packages  \n",
    "import typing\n",
    "import numpy as np\n",
    "import random\n",
    "import scipy\n",
    "import matplotlib.pyplot as plt\n",
    "from typing import Type\n",
    "%matplotlib inline\n",
    "\n",
    "from scipy.stats import multivariate_normal\n",
    "\n",
    "# NOTE: Do NOT change the order of this import call\n",
    "from keras.datasets import fashion_mnist\n",
    "# NOTE: Keras has only been used here to import the dataset, you're \n",
    "# not allowed to use it anywhere else (we haven't either!)"
   ]
  },
  {
   "cell_type": "code",
   "execution_count": 4,
   "metadata": {},
   "outputs": [],
   "source": [
    "# Helper Functions\n",
    "\n",
    "def plot_fashion_mnist(images, labels, n_row=2, n_col=5):\n",
    "  fig, axes = plt.subplots(n_row, n_col, figsize=(10, 5))\n",
    "  for i in range(n_row * n_col):\n",
    "      ax = axes[i//n_col, i%n_col]\n",
    "      ax.imshow(images[i], cmap='gray')\n",
    "      ax.set_title('Label: {}'.format(labels[i]))\n",
    "  plt.tight_layout()\n",
    "  plt.show()\n",
    "\n",
    "\n",
    "def plot_accuracies(x, y, title):\n",
    "  fig = plt.figure(figsize=(10,6))\n",
    "  plt.plot(x, y, marker='^', label=\"k\")\n",
    "  plt.title(title)\n",
    "  plt.xlabel(\"k-values\", fontsize=14)\n",
    "  plt.ylabel(\"Test Acc.\", fontsize=14)\n",
    "  plt.legend()\n",
    "  plt.show()\n",
    "\n",
    "\n",
    "def iterate_samples(batch_size, sample_set, label_set, shuffle=True):\n",
    "    # set random seed reproducibility\n",
    "    np.random.seed(42)\n",
    "    order = np.arange(sample_set.shape[0])\n",
    "    if shuffle:\n",
    "        np.random.shuffle(order)\n",
    "\n",
    "    # order = np.arange(sample_set.shape[0])\n",
    "    # if shuffle:\n",
    "    #     order = np.random.default_rng(42).permutation(sample_set.shape[0])\n",
    "\n",
    "    for i in range(0, sample_set.shape[0], batch_size):\n",
    "        batch_samples = sample_set[order[i : i + batch_size]]\n",
    "        batch_labels = label_set[order[i : i + batch_size]]\n",
    "        yield batch_samples, batch_labels"
   ]
  },
  {
   "cell_type": "markdown",
   "metadata": {},
   "source": [
    "### 1. k-Nearest Neighbour Classification (22 points)\n",
    " \n",
    "In this section, we will be looking at the k-nearest neighbours algorithm for classifiying 10 different fashion categores in the Fashion MNIST dataset. In particular, we will learn about the following:\n",
    "\n",
    "1. Normalizing the input data.\n",
    "2. Implement a function that classifies FashionMNIST using the kNN algorithm.\n",
    "3. Perform cross-validation to get the best k.\n",
    "4. Observe the effect of increasing k to large values.\n",
    "\n",
    "Fashion MNIST typically acts a drop-in replacement for the well-known MNIST dataset. Its structure is quite similar to MNIST except the labels now represent fashion categories (instead of digits). Here's a table representing each category:\n",
    "\n",
    "| Label      | Description |\n",
    "| ----------- | ----------- |\n",
    "| 0      | T-shirt/Top       |\n",
    "| 1   | Trouser        |\n",
    "| 2   | Pullover        |\n",
    "| 3   | Dress        |\n",
    "| 4   | Coat        |\n",
    "| 5   | Sandal        |\n",
    "| 6   | Shirt        |\n",
    "| 7   | Sneaker        |\n",
    "| 8   | Bag        |\n",
    "| 9   | Ankle Boot        |"
   ]
  },
  {
   "cell_type": "markdown",
   "metadata": {},
   "source": [
    "It is always important to visualize the data. In the next cell, we load the FashionMNIST dataset and plot 10 images from the training set"
   ]
  },
  {
   "cell_type": "code",
   "execution_count": 5,
   "metadata": {},
   "outputs": [
    {
     "name": "stdout",
     "output_type": "stream",
     "text": [
      "Number of images for training: 60000\n",
      "Number of images for testing: 10000\n",
      "Size of Fashion MNIST images: (28, 28)\n"
     ]
    },
    {
     "data": {
      "image/png": "[encoded data removed]",
      "text/plain": [
       "<Figure size 1000x500 with 10 Axes>"
      ]
     },
     "metadata": {},
     "output_type": "display_data"
    }
   ],
   "source": [
    "# Load Fashion MNIST data\n",
    "(x_train, y_train), (x_test, y_test) = fashion_mnist.load_data()\n",
    "\n",
    "# Shuffle the training set\n",
    "permuted = np.random.permutation(len(x_train))\n",
    "x_train, y_train = x_train[permuted], y_train[permuted]\n",
    "\n",
    "print(f\"Number of images for training: {x_train.shape[0]}\")\n",
    "print(f\"Number of images for testing: {x_test.shape[0]}\")\n",
    "print(f\"Size of Fashion MNIST images: {x_train[0].shape}\")\n",
    "\n",
    "# Visualize 10 images from the training set\n",
    "plot_fashion_mnist(images=x_train[:10], labels=y_train[:10])"
   ]
  },
  {
   "cell_type": "markdown",
   "metadata": {},
   "source": [
    "**Question 1.1 (2 points):** Implement a function that performs the min-max normalization.\n",
    "\n",
    "Min-max normalization (also called feature scaling) performs a linear transformation on the original data such that all values in the range $[0,1]$. Its formula is given by:\n",
    "\n",
    "\\begin{equation}\n",
    "x_{\\textrm{norm}} = \\frac{x - x_{\\textrm{min}}}{x_{\\textrm{max}} - x_{\\textrm{min}}}\n",
    "\\end{equation}"
   ]
  },
  {
   "cell_type": "code",
   "execution_count": 6,
   "metadata": {
    "tags": []
   },
   "outputs": [],
   "source": [
    "def min_max_normalize(data: np.ndarray, min_val=None, max_val=None) -> np.ndarray:\n",
    "  \"\"\"\n",
    "  Normalizes (rescales) the range of features to lie in the range [0, 1].\n",
    "\n",
    "  Args:\n",
    "    data: the input data to be normalized (shape: [num_samples x height x width])\n",
    "    min_val: the minimum value in the dataset. To be set as \"None\" for normalizing the training data\n",
    "    max_val: the maximum value in the dataset. To be set as \"None\" for normalizing the training data\n",
    "  \n",
    "  Returns:\n",
    "    normalized input data (shape: [num_samples x height x width])\n",
    "    min_val (float): the minimum value in the dataset. \n",
    "    max_val (float): the maximum value in the dataset. \n",
    "  \"\"\"\n",
    "\n",
    "  if min_val is None:\n",
    "    min_val = np.min(data)\n",
    "  if max_val is None:\n",
    "    max_val = np.max(data)\n",
    "  return (data - min_val) / (max_val - min_val), min_val, max_val\n",
    "  "
   ]
  },
  {
   "cell_type": "code",
   "execution_count": 7,
   "metadata": {
    "deletable": false,
    "editable": false
   },
   "outputs": [
    {
     "data": {
      "text/html": [
       "<p><strong><pre style='display: inline;'>q1.1</pre></strong> passed!</p>"
      ],
      "text/plain": [
       "q1.1 results: All test cases passed!"
      ]
     },
     "execution_count": 7,
     "metadata": {},
     "output_type": "execute_result"
    }
   ],
   "source": [
    "grader.check(\"q1.1\")"
   ]
  },
  {
   "cell_type": "markdown",
   "metadata": {},
   "source": [
    "Now, normalize the training and test data with the function defined above."
   ]
  },
  {
   "cell_type": "code",
   "execution_count": 8,
   "metadata": {},
   "outputs": [
    {
     "name": "stdout",
     "output_type": "stream",
     "text": [
      "Training inputs' shape after vectorization: (60000, 784)\n",
      "Testing inputs' shape after vectorization: (10000, 784)\n"
     ]
    }
   ],
   "source": [
    "# NOTE: Observe how we're normalizing the data. We normalize the training data in the usual manner by \n",
    "# calculating the minimum and maximum as given in the formula. However, we cannot do the same for the test \n",
    "# data as it is considered a bad practice to tamper with the statistics of the test data. \n",
    "# Therefore, we return the min and max values from the training data and use those min/max values for \n",
    "# normalizing the test data. \n",
    "x_train, min_val, max_val = min_max_normalize(x_train, min_val=None, max_val=None)\n",
    "x_test, _, _ = min_max_normalize(x_test, min_val, max_val)\n",
    "\n",
    "# Vectorize the data\n",
    "n_train, h, w = x_train.shape\n",
    "n_test, h, w = x_test.shape\n",
    "x_train_vec, x_test_vec = x_train.reshape(n_train, h*w), x_test.reshape(n_test, h*w)\n",
    "\n",
    "print(f\"Training inputs' shape after vectorization: {x_train_vec.shape}\")\n",
    "print(f\"Testing inputs' shape after vectorization: {x_test_vec.shape}\")"
   ]
  },
  {
   "cell_type": "markdown",
   "metadata": {},
   "source": [
    "**Question 1.2 (3 points):** Implement the distance function `get_euclidean_distance`."
   ]
  },
  {
   "cell_type": "code",
   "execution_count": 9,
   "metadata": {
    "tags": []
   },
   "outputs": [],
   "source": [
    "def get_euclidean_distance(matrix_a: np.ndarray, matrix_b: np.ndarray) -> np.ndarray:\n",
    "    \"\"\"Computes the Euclidean distance between two arrays\n",
    "\n",
    "    Args:\n",
    "        matrix_a (np.ndarray): Numpy array of shape [num_samples_a x num_features]\n",
    "        matrix_b (np.ndarray): Numpy array of shape [num_samples_b x num_features]\n",
    "\n",
    "    Returns:\n",
    "        np.ndarray: Numpy array of shape [num_samples_a x num_samples_b] where \n",
    "                    each column contains the distance between one element in \n",
    "                    matrix_b and all elements in matrix_a\n",
    "    \"\"\"\n",
    "    # NOTE: Depending on your implementation, chances are that you might get out-of-memory errors on Colab. If that is \n",
    "    # the case, you are encouraged to think of implementing a more efficient solution using SciPy\n",
    "    \n",
    "    # NOTE: This is a more efficient implementation using SciPy\n",
    "    # https://docs.scipy.org/doc/scipy/reference/generated/scipy.spatial.distance.cdist.html\n",
    "    \n",
    "    return scipy.spatial.distance.cdist(matrix_a, matrix_b, metric='euclidean')"
   ]
  },
  {
   "cell_type": "code",
   "execution_count": 10,
   "metadata": {
    "deletable": false,
    "editable": false
   },
   "outputs": [
    {
     "data": {
      "text/html": [
       "<p><strong><pre style='display: inline;'>q1.2</pre></strong> passed!</p>"
      ],
      "text/plain": [
       "q1.2 results: All test cases passed!"
      ]
     },
     "execution_count": 10,
     "metadata": {},
     "output_type": "execute_result"
    }
   ],
   "source": [
    "grader.check(\"q1.2\")"
   ]
  },
  {
   "cell_type": "markdown",
   "metadata": {},
   "source": [
    "**Question 1.3 (8 points):** Implement `get_k_nearest_labels` function to the get the labels of the k-nearest neighbours from the training set."
   ]
  },
  {
   "cell_type": "code",
   "execution_count": 11,
   "metadata": {
    "tags": []
   },
   "outputs": [],
   "source": [
    "def get_k_nearest_labels(distances: np.ndarray, labels: np.ndarray, k: int) -> np.ndarray:\n",
    "    \"\"\"Gets the k nearest labels based on the distances\n",
    "\n",
    "    Args:\n",
    "        distances (np.ndarray): Numpy array of shape num_train_samples x num_test_samples \n",
    "                                containing the euclidean distances\n",
    "        labels (np.ndarray): Numpy array of shape [num_train_samples, ] containing \n",
    "                                the training labels\n",
    "        k (int): Int defining the number of nearest neighbours\n",
    "\n",
    "    Returns:\n",
    "        np.ndarray: Numpy array of shape [k x num_test_samples] containing the \n",
    "                    training labels of the k nearest neighbours for each test sample\n",
    "    \"\"\"\n",
    "\n",
    "    # Sort the distances in ascending and get the indices of the first \"k\" elements\n",
    "    # HINT: You need to sort the distances in ascending order to get the indices \n",
    "    # of the first \"k\" elements. BUT, you would not need to sort the entire array, \n",
    "    # it would be enough to make sure that the \"k\"-th element is in the correct position!\n",
    "\n",
    "    # NOTE: Since the matrix sizes are huge, it would be impractical to run any sort of a \n",
    "    # loop to get the nearest labels. Think about how you can do it without using loops.\n",
    "\n",
    "    return labels[np.argpartition(distances, k, axis=0)[:k]]\n"
   ]
  },
  {
   "cell_type": "code",
   "execution_count": 12,
   "metadata": {
    "deletable": false,
    "editable": false
   },
   "outputs": [
    {
     "data": {
      "text/html": [
       "<p><strong><pre style='display: inline;'>q1.3</pre></strong> passed!</p>"
      ],
      "text/plain": [
       "q1.3 results: All test cases passed!"
      ]
     },
     "execution_count": 12,
     "metadata": {},
     "output_type": "execute_result"
    }
   ],
   "source": [
    "grader.check(\"q1.3\")"
   ]
  },
  {
   "cell_type": "markdown",
   "metadata": {},
   "source": [
    "**Question 1.4 (3 points):** Implement the `get_prediction` function that returns the label class that occurs most frequently."
   ]
  },
  {
   "cell_type": "code",
   "execution_count": 13,
   "metadata": {
    "tags": []
   },
   "outputs": [],
   "source": [
    "def get_prediction(nearest_labels: np.ndarray) -> np.ndarray:\n",
    "    \"\"\"Gets the best prediction, i.e. the label class that occurs most frequently\n",
    "\n",
    "    Args:\n",
    "        nearest_labels (np.ndarray): Numpy array of shape [k x num_test_samples] obtained from the output of the get_k_nearest_labels function\n",
    "\n",
    "    Returns:\n",
    "        np.ndarray: Numpy array of shape [1 x num_test_samples] containing the best prediction for each test sample\n",
    "    \"\"\"\n",
    "\n",
    "    prediction = np.zeros((1, nearest_labels.shape[1]))\n",
    "    for i in range(nearest_labels.shape[1]):\n",
    "      prediction[0][i] = np.argmax(np.bincount(nearest_labels[:, i]))\n",
    "    \n",
    "    return prediction"
   ]
  },
  {
   "cell_type": "code",
   "execution_count": 14,
   "metadata": {
    "deletable": false,
    "editable": false
   },
   "outputs": [
    {
     "data": {
      "text/html": [
       "<p><strong><pre style='display: inline;'>q1.4</pre></strong> passed!</p>"
      ],
      "text/plain": [
       "q1.4 results: All test cases passed!"
      ]
     },
     "execution_count": 14,
     "metadata": {},
     "output_type": "execute_result"
    }
   ],
   "source": [
    "grader.check(\"q1.4\")"
   ]
  },
  {
   "cell_type": "markdown",
   "metadata": {},
   "source": [
    "Now, using these functions, we will run the k-NN classifier on a subset of the FashionMNIST dataset! Particularly, we will use 50,000 samples for training, 10,000 samples for validation, and 10,000 samples for testing."
   ]
  },
  {
   "cell_type": "code",
   "execution_count": 15,
   "metadata": {},
   "outputs": [
    {
     "name": "stdout",
     "output_type": "stream",
     "text": [
      "Training set shape: (50000, 784)\n",
      "Validaton set shape: (10000, 784)\n",
      "Test set shape: (10000, 784)\n"
     ]
    }
   ],
   "source": [
    "n_train_samples = 50000  \n",
    "n_val_samples = 10000      \n",
    "n_test_samples = 10000     \n",
    "\n",
    "# define the training set and labels\n",
    "train_set = x_train_vec[:n_train_samples] \n",
    "train_labels = y_train[:n_train_samples]\n",
    "print(f\"Training set shape: {train_set.shape}\")\n",
    "\n",
    "# define the validation set and labels\n",
    "val_set = x_train_vec[-n_val_samples:]\n",
    "val_labels = y_train[-n_val_samples:]\n",
    "print(f\"Validaton set shape: {val_set.shape}\")\n",
    "\n",
    "# define the test set and labels\n",
    "test_set = x_test_vec[:n_test_samples]\n",
    "test_labels = y_test[:n_test_samples]\n",
    "print(f\"Test set shape: {test_set.shape}\")"
   ]
  },
  {
   "cell_type": "code",
   "execution_count": 16,
   "metadata": {},
   "outputs": [],
   "source": [
    "def knn_classifier(training_set: np.ndarray, training_labels: np.ndarray, \n",
    "                  test_set: np.ndarray, test_labels: np.ndarray, k: int) -> float:\n",
    "  \"\"\"\n",
    "  Performs k-nearest neighbour classification\n",
    "\n",
    "  Args:\n",
    "    training_set (np.ndarray): Vectorized training images (shape: [num_train_samples x num_features])\n",
    "    training_labels (np.ndarray): Training labels (shape: [num_train_samples, 1])\n",
    "    test_set (np.ndarray): Vectorized test images (shape: [num_test_samples x num_features])\n",
    "    test_labels (np.ndarray): Test labels (shape: [num_test_samples, 1])\n",
    "    k (int): number of nearest neighbours\n",
    "\n",
    "  Returns:\n",
    "    accuracy (float): the accuracy in % \n",
    "  \"\"\"\n",
    "  \n",
    "  dists = get_euclidean_distance(matrix_a=training_set, matrix_b=test_set)\n",
    "  \n",
    "  nearest_labels = get_k_nearest_labels(distances=dists, labels=training_labels, k=k)\n",
    "  \n",
    "  # from the nearest labels above choose the label classes that occurs most frequently\n",
    "  predictions = get_prediction(nearest_labels)\n",
    "  \n",
    "  # calculate and return accuracy of the predicitions\n",
    "  accuracy = (np.equal(predictions, test_labels).sum())/len(test_set) * 100.0  \n",
    "\n",
    "  return accuracy"
   ]
  },
  {
   "cell_type": "markdown",
   "metadata": {},
   "source": [
    "With the kNN classifier defined, how would you choose the best possible *k* value? We will do some cross validation to get the best _k_. Particularly, we will run the k-NN classifier implemented above on the training the validation sets over **5 values of k**, ranging from 1 to 10 with increments of 2. You are asked to report the k-value which obtains the best validation accuracy. \n",
    "\n",
    "And, based on the k-value that obtains the best validation accuracy, run the k-NN classifier again, but this time on the test set. "
   ]
  },
  {
   "cell_type": "code",
   "execution_count": 17,
   "metadata": {},
   "outputs": [
    {
     "name": "stdout",
     "output_type": "stream",
     "text": [
      "Best validation accuracy of 85.71 % for k=5\n"
     ]
    }
   ],
   "source": [
    "# dictionary to store the k values as keys and the validation accuracies as the values\n",
    "val_accuracy_per_k = {}\n",
    "\n",
    "# Run the loop with the said increments of k\n",
    "for k in range(1, 10, 2):\n",
    "  val_accuracy_per_k[k] = knn_classifier(train_set, train_labels, val_set, val_labels, k)\n",
    "\n",
    "# print the corresponding k (i.e. the key) for which the accuracy (i.e. the value) is the highest\n",
    "best_k = max(val_accuracy_per_k, key=val_accuracy_per_k.get) \n",
    "print(f\"Best validation accuracy of {val_accuracy_per_k[best_k]} % for k={best_k}\")\n"
   ]
  },
  {
   "cell_type": "markdown",
   "metadata": {},
   "source": [
    "<!-- BEGIN QUESTION -->\n",
    "\n",
    "**Question 1.5 (1 point):** Report the best validation accuracy and the corresponding *k* value that achieves it? (1 sentence)"
   ]
  },
  {
   "cell_type": "markdown",
   "metadata": {},
   "source": [
    "**Answer 1.5:** k=5 obtains the best validation accuracy of 85.71 %"
   ]
  },
  {
   "cell_type": "markdown",
   "metadata": {},
   "source": [
    "<!-- END QUESTION -->\n",
    "\n",
    "#### Reporting the test accuracy and plotting the graphs (3 points)\n",
    "In this section, you are asked to report the test accuracy and plot a graph with various k-values. You are not required to implement anything here, rather, the points are associated to the test accuracy you will report and the graph obtained."
   ]
  },
  {
   "cell_type": "code",
   "execution_count": 18,
   "metadata": {},
   "outputs": [
    {
     "name": "stdout",
     "output_type": "stream",
     "text": [
      "85.00999999999999\n"
     ]
    }
   ],
   "source": [
    "# Now, based on the best value of k, we run the kNN classifier on the test set.\n",
    "test_accuracy = knn_classifier(train_set, train_labels, test_set, test_labels, k=best_k)\n",
    "print(test_accuracy)"
   ]
  },
  {
   "cell_type": "markdown",
   "metadata": {},
   "source": [
    "<!-- BEGIN QUESTION -->\n",
    "\n",
    "**Question 1.6 (1 point):** Report the test accuracy obtained with the best k-value (1 sentence). "
   ]
  },
  {
   "cell_type": "markdown",
   "metadata": {},
   "source": [
    "**Answer 1.6:** The test accuracy with k=5 is 85.01 %."
   ]
  },
  {
   "cell_type": "markdown",
   "metadata": {},
   "source": [
    "<!-- END QUESTION -->\n",
    "\n",
    "<!-- BEGIN QUESTION -->\n",
    "\n",
    "**Question 1.7 (2 points):** Until now, we have experimented with relatively small values of *k* (within 10). What happens if we increase _k_ to even larger values?\n",
    "To observe this, we do the following:\n",
    "\n",
    "1. With the same train/test split, run the k-NN classifer for 4 values of *k* on the test set as given below.\n",
    "\n",
    "2. Plot the resulting test acccuracies. \n",
    "\n",
    "After running the following cell, answer the following question: **Do you observe a trend in the test accuracies?** (in 1 sentence)\n"
   ]
  },
  {
   "cell_type": "code",
   "execution_count": 19,
   "metadata": {},
   "outputs": [
    {
     "data": {
      "image/png": "[encoded data removed]",
      "text/plain": [
       "<Figure size 1000x600 with 1 Axes>"
      ]
     },
     "metadata": {},
     "output_type": "display_data"
    }
   ],
   "source": [
    "test_accs = []\n",
    "k_values = [10, 20, 30, 40]\n",
    "\n",
    "# Run a loop for different k values and store them in the test_accuracies list\n",
    "for k in k_values:\n",
    "  test_accs.append(knn_classifier(train_set, train_labels, test_set, test_labels, k=k))\n",
    "\n",
    "# this function is defined under the helper functions\n",
    "plot_accuracies(x=k_values, y=test_accs, title=\"Test Accuracy vs. k-values for Fashion MNIST\")"
   ]
  },
  {
   "cell_type": "markdown",
   "metadata": {},
   "source": [
    "**Answer 1.7:** The trend that I observe is a linear relation between the value of k and the accuracy."
   ]
  },
  {
   "cell_type": "markdown",
   "metadata": {},
   "source": [
    "<!-- END QUESTION -->\n",
    "\n",
    "<!-- BEGIN QUESTION -->\n",
    "\n",
    "**Question 1.8 (2 points)**: What is the effect on the test accuracy with larger values of *k? Why do you think this is the case? (answer in 3-4 sentences)"
   ]
  },
  {
   "cell_type": "markdown",
   "metadata": {},
   "source": [
    "**Answer 1.8**: The bigger k is the less accurate is our k-NN classifier. This is the case because for bigger values of k the neighborhood considered is larger and therefore less meaningful. Which leads to less accuracy in our model"
   ]
  },
  {
   "cell_type": "markdown",
   "metadata": {},
   "source": [
    "<!-- END QUESTION -->\n",
    "\n",
    "### 2.  Classification using Gaussian Naive Bayes (15 points)\n",
    "\n",
    "In this section, we will use the Gaussian Naive Bayes (GNB) classifier on the Fashion MNIST dataset. The GNB classifier belongs to the family of probabilistic classifiers based on the application of Bayes' Theorem. The term \"naive\" in naive Bayes classifiers comes from the fact that they have a strong independence assumptions between the features. In particular, it assumes that the value of a particular feature is independent of the value of another feature, _given the class variable_. "
   ]
  },
  {
   "cell_type": "markdown",
   "metadata": {},
   "source": [
    "Consider the training set $ \\{( x^{(1)},y^{(1)} ), \\ldots, ( x^{(N)},y^{(N)} )) \\}$ of N labeled examples, and the input features are $ x^{(i)} \\in \\mathbb{R}^n$. Since we are interested in multi-class classification, the label $y$ can take K different values i.e. $y^{(i)} \\in \\{1, 2, \\ldots, K\\}$. The GNB model assumes that the **class-conditional densities** are distributed according to a multi-variate Gaussian distribution. In other words, the probability of observing the data $x^{(i)}$ given the class variable (also known as, _likelihood_) is given by a Gaussian distribution as shown below:\n",
    "\n",
    "$$\n",
    "\\begin{equation*}\n",
    "P (x \\mid y=k, \\mu_k, \\Sigma_k) = \\mathcal{N}(x \\mid \\mu_k, \\Sigma_k)\n",
    "\\end{equation*}\n",
    "$$\n",
    "where $\\mu_k$ denotes the class-specific mean vector and $\\Sigma_k$ denotes the class-specific covariance matrix (meaning that each class has its own mean vector and the covariance matrix). Note that since we have a separate covariance matrix for each class $k$, the covariance matrices are not shared among all the classes. \n",
    "\n",
    "Given the likelihood of the model, we can now calculate the posterior probability, that is, the probability of a label belonging to a particular class given the data $x^{(i)}$, using Bayes' theorem as follows:\n",
    "\n",
    "$$\n",
    "\\begin{equation*}\n",
    "P(y=k \\mid x, \\mu_k, \\Sigma_k) = \\frac{P (x \\mid y=k, \\mu_k, \\Sigma_k) P(y=k)}{\\sum_{c=1}^K P (x \\mid y=c, \\mu_c, \\Sigma_c) P(y=c)}\n",
    "\\end{equation*}\n",
    "$$\n",
    "where $P(y=k)$ denotes the prior probability of a label belonging to a particular class. The denominator is essentially a normalization constant and is not technically required to be implemented. Observe that it this likelihood $P (x \\mid y=k, \\mu_k, \\Sigma_k)$ that is distributed according to a multi-variate Gaussian distribution given below:\n",
    "\n",
    "$$\n",
    "\\begin{equation*}\n",
    "P (x \\mid y=k, \\mu_k, \\Sigma_k) = \\frac{1}{(2 \\pi)^{K/2} | \\Sigma_k |^{1/2} } \\exp \\left( -\\frac{1}{2} (x - \\mu_k)^{T} \\Sigma_k^{-1} (x - \\mu_k) \\right)\n",
    "\\end{equation*}\n",
    "$$\n",
    "where $| \\Sigma_k |$ denotes the determinant of the covariance matrix, and $K$ denotes the number of classes. An important note here is that the probabilities are small and in the case of high dimensionality they tend to be very close to zero and result in numerical underflow issues. Therefore, we will be considering the _log_ of the likelihood function instead. Hence, the resulting log-likelihood can be written as:\n",
    "\n",
    "$$\n",
    "\\begin{equation*}\n",
    "\\log P (x \\mid y=k, \\mu_k, \\Sigma_k) = - \\frac{K}{2} \\log(2 \\pi) - \\frac{1}{2} \\log(| \\Sigma_k |) - \\frac{1}{2} (x - \\mu_k)^{T} \\Sigma_k^{-1} (x - \\mu_k)\n",
    "\\end{equation*}\n",
    "$$\n",
    "\n",
    "Likewise, the log-posterior can be written as:\n",
    "$$\n",
    "\\begin{equation*}\n",
    "\\log P(y=k \\mid x, \\mu_k, \\Sigma_k) \\propto \\log P (x \\mid y=k, \\mu_k, \\Sigma_k) + \\log P(y=k) - \\log (\\textrm{const.})\n",
    "\\end{equation*}\n",
    "$$\n",
    "Note that we have used the $\\propto$ symbol above which indicates that the log of the posterior probability density for a class can be computed as the sum of the log-likelihood and the log prior probability densities, _upto_ the log of the normalization constant. \n",
    "\n",
    "Now, given the theory, there are two implementation questions in this section. In the first, you are asked to compute the class-specific mean and covariance vectors and the prior probabilities for each class. In the second question, you are required to use these 3 quantities to calculate the posterior probability of each class given the data. While the math and notations given above maybe a bit overwhelming, you are not required to implement the multi-variate Gaussian function. You can use SciPy's function for the same, more details are given in the question. \n"
   ]
  },
  {
   "cell_type": "markdown",
   "metadata": {},
   "source": [
    "**Question 2.1 (6 points):** Complete the `gnb_fit_classifier` function that fits the GNB classifier on the training data."
   ]
  },
  {
   "cell_type": "code",
   "execution_count": 20,
   "metadata": {
    "tags": []
   },
   "outputs": [],
   "source": [
    "def gnb_fit_classifier(X: np.ndarray, Y: np.ndarray, smoothing: float=1e-3) -> typing.Tuple:\n",
    "    \"\"\"Fits the GNB classifier on the training data\n",
    "\n",
    "    Args:\n",
    "        X (np.ndarray): numpy array of shape [num_samples x num_features] containing the vectorized training data\n",
    "        Y (np.ndarray): numpy array of shape [num_samples, ] containing the training labels\n",
    "        smoothing (float, optional): constant to avoid division by zero. Defaults to 1e-3.\n",
    "\n",
    "    Returns:\n",
    "        prior_probs (typing.List[float]): list of length `num_classes` containing the prior probabilities of the training labels\n",
    "        means (typing.List[np.ndarray]): list of length `num_classes` containing the means of the batch of samples belonging to a particular label\n",
    "                                            shape of each element in the list - (num_features, )\n",
    "        vars (typing.List[np.ndarray]): list o f length `num_classes` containing the variances of the batch of samples belonging to a particular label\n",
    "                                            shape of each element in the list - (num_features, )\n",
    "    \"\"\"\n",
    "\n",
    "    # to set the prior probability of each label by counting the number of times the label appears in \n",
    "    # training data and normalizing it by the total number of training samples.\n",
    "    prior_probs = []\n",
    "    \n",
    "    means, vars = [], []\n",
    "\n",
    "    labels = np.unique(Y)\n",
    "    num_classes = len(labels)\n",
    "\n",
    "    for label in labels:\n",
    "        # get the indices of the samples that belong to the current label\n",
    "        indices = np.where(Y == label)[0]\n",
    "        # get the samples that belong to the current label\n",
    "        samples = X[indices]\n",
    "        # get the prior probability of the current label\n",
    "        prior_probs.append(len(indices)/len(Y))\n",
    "        # get the mean of the current label\n",
    "        means.append(np.mean(samples, axis=0))\n",
    "        # get the variance of the current label\n",
    "        vars.append(np.var(samples, axis=0) + smoothing)\n",
    "    \n",
    "    return prior_probs, means, vars"
   ]
  },
  {
   "cell_type": "code",
   "execution_count": 21,
   "metadata": {
    "deletable": false,
    "editable": false
   },
   "outputs": [
    {
     "data": {
      "text/html": [
       "<p><strong><pre style='display: inline;'>q2.1</pre></strong> passed!</p>"
      ],
      "text/plain": [
       "q2.1 results: All test cases passed!"
      ]
     },
     "execution_count": 21,
     "metadata": {},
     "output_type": "execute_result"
    }
   ],
   "source": [
    "grader.check(\"q2.1\")"
   ]
  },
  {
   "cell_type": "markdown",
   "metadata": {},
   "source": [
    "**Question 2.2 (6 points):** Complete the `gnb_predict` function to get the predictions from the classifier."
   ]
  },
  {
   "cell_type": "code",
   "execution_count": 22,
   "metadata": {
    "tags": []
   },
   "outputs": [],
   "source": [
    "def gnb_predict(X: np.ndarray, prior_probs: typing.List[np.ndarray], \n",
    "                    means: typing.List[np.ndarray], vars: typing.List[np.ndarray], num_classes: int) -> np.ndarray:\n",
    "    \"\"\"Computes the predictions of all test samples from the GNB classifier\n",
    "\n",
    "    Args:\n",
    "        X (np.ndarray): numpy array of shape [num_samples x features] containing vectorized test images\n",
    "        prior_probs (typing.List[float]): list of length `num_classes` containing the prior probabilities of the training labels\n",
    "        means (typing.List[np.ndarray]): list of length `num_classes` containing the means of the batch of samples belonging to a particular label\n",
    "        vars (typing.List[np.ndarray]): list of length `num_classes` containing the variances of the batch of samples belonging to a particular label\n",
    "        num_classes (int): int defining the number of classes\n",
    "\n",
    "    Returns:\n",
    "        np.ndarray: numpy array of shape (num_samples) containing predictions for each test sample\n",
    "    \"\"\"\n",
    "\n",
    "    num_samples, feature_dim = X.shape\n",
    "\n",
    "    all_preds = np.zeros((num_samples,  num_classes))\n",
    "\n",
    "    # HINT: Check out SciPy's multivariate normal documentation and \n",
    "    # think about which function to use to prevent underflow issues\n",
    "\n",
    "    for i in range(num_classes):\n",
    "        all_preds[:, i] = prior_probs[i] * multivariate_normal.pdf(X, mean=means[i], cov=vars[i])\n",
    "\n",
    "    # for each prediction in `all_preds`, get the label the label that occurs most frequently\n",
    "    preds = np.argmax(all_preds, axis=1)\n",
    "\n",
    "    return preds"
   ]
  },
  {
   "cell_type": "code",
   "execution_count": 23,
   "metadata": {
    "deletable": false,
    "editable": false
   },
   "outputs": [
    {
     "data": {
      "text/html": [
       "<p><strong><pre style='display: inline;'>q2.2</pre></strong> passed!</p>"
      ],
      "text/plain": [
       "q2.2 results: All test cases passed!"
      ]
     },
     "execution_count": 23,
     "metadata": {},
     "output_type": "execute_result"
    }
   ],
   "source": [
    "grader.check(\"q2.2\")"
   ]
  },
  {
   "cell_type": "markdown",
   "metadata": {},
   "source": [
    "Now using the functions above let us test the GNB classifer!"
   ]
  },
  {
   "cell_type": "code",
   "execution_count": 24,
   "metadata": {},
   "outputs": [],
   "source": [
    "def gnb_classifier(train_set, train_labels, test_set, test_labels, smoothing=1e-3):\n",
    "\n",
    "  num_classes = len(np.unique(y_train))\n",
    "\n",
    "  prior_probs, means, vars = gnb_fit_classifier(train_set, train_labels, smoothing=1e-3)\n",
    "\n",
    "  preds = gnb_predict(test_set, prior_probs, means, vars, num_classes)\n",
    "\n",
    "  accuracy = np.mean(np.equal(preds, test_labels)) * 100.0\n",
    "\n",
    "  return accuracy"
   ]
  },
  {
   "cell_type": "code",
   "execution_count": 25,
   "metadata": {},
   "outputs": [
    {
     "name": "stdout",
     "output_type": "stream",
     "text": [
      "Training set shape: (50000, 784)\n",
      "Validaton set shape: (10000, 784)\n",
      "Test set shape: (10000, 784)\n"
     ]
    }
   ],
   "source": [
    "# Run again to make sure that the inputs remain the same.\n",
    "\n",
    "# define the training set and labels\n",
    "train_set = x_train_vec[:n_train_samples]\n",
    "train_labels = y_train[:n_train_samples]\n",
    "print(f\"Training set shape: {train_set.shape}\")\n",
    "\n",
    "# define the validation set and labels\n",
    "val_set = x_train_vec[-n_val_samples:]\n",
    "val_labels = y_train[-n_val_samples:]\n",
    "print(f\"Validaton set shape: {val_set.shape}\")\n",
    "\n",
    "# define the test set and labels\n",
    "test_set = x_test_vec[:n_test_samples]\n",
    "test_labels = y_test[:n_test_samples]\n",
    "print(f\"Test set shape: {test_set.shape}\")"
   ]
  },
  {
   "cell_type": "markdown",
   "metadata": {},
   "source": [
    "<!-- BEGIN QUESTION -->\n",
    "\n",
    "**Question 2.3 (1 point):** Report the test accuracy obtained by the GNB classifier. (1 sentence)"
   ]
  },
  {
   "cell_type": "code",
   "execution_count": 26,
   "metadata": {},
   "outputs": [
    {
     "name": "stderr",
     "output_type": "stream",
     "text": [
      "/Users/sanmarsimon/opt/anaconda3/envs/INF8245E/lib/python3.10/site-packages/scipy/stats/_multivariate.py:517: RuntimeWarning: overflow encountered in exp\n",
      "  out = np.exp(self._logpdf(x, mean, psd.U, psd.log_pdet, psd.rank))\n"
     ]
    },
    {
     "name": "stdout",
     "output_type": "stream",
     "text": [
      "Test accuracy: 65.72 %\n"
     ]
    }
   ],
   "source": [
    "# test the model!\n",
    "test_acc = gnb_classifier(train_set, train_labels, test_set, test_labels)\n",
    "print(f\"Test accuracy: {test_acc} %\")"
   ]
  },
  {
   "cell_type": "markdown",
   "metadata": {},
   "source": [
    "**Answer 2.3:** The test accuracy obtained by the GNB classifier is 65.72 %."
   ]
  },
  {
   "cell_type": "markdown",
   "metadata": {},
   "source": [
    "<!-- END QUESTION -->\n",
    "\n",
    "<!-- BEGIN QUESTION -->\n",
    "\n",
    "**Question 2.4 (2 points):** Compare the test accuracies between the GNB classfier and the k-NN classifier. What do you observe? Which classifier is a better choice? Justify your answer in 3-4 sentences. "
   ]
  },
  {
   "cell_type": "markdown",
   "metadata": {},
   "source": [
    "**Answer 2.4**: The k-NN classifier has a much better accuracy than the GNB classifier. This can be explained by the strong assumptions that GNB is making that features are independant which is clearly not the case here with image's pixel."
   ]
  },
  {
   "cell_type": "markdown",
   "metadata": {},
   "source": [
    "<!-- END QUESTION -->\n",
    "\n",
    "### 3.  Classification using Logistic Regression (42 points)\n",
    "\n",
    "In this section, you will be using logistic regression for classifying different categories on the same FashionMNIST dataset. In particular, the following are the objectives for this section:\n",
    "\n",
    "1. Understanding logistic regression for multi-class classification problems.\n",
    "2. Learning to derive the gradient of the softmax function and implement the `softmax` function.\n",
    "3. Implementing the gradient updates in the function `compute_gradient`.\n",
    "4. Understanding and implementing the training and validation phases in a standard machine learning training regime. \n",
    "5. Explore the effects of different hyperparameters on the logistic regression model. "
   ]
  },
  {
   "cell_type": "markdown",
   "metadata": {},
   "source": [
    "\n",
    "Consider a logistic regression model for classifying the FashionMNIST categories, where we have a training set $ \\{( x^{(1)},y^{(1)} ), \\ldots, ( x^{(N)},y^{(N)} )) \\}$ of N labeled examples, and the input features are $ x^{(i)} \\in \\mathbb{R}^n$. Since we are interested in multi-class classification, the label $y$ can take K different values i.e. $y^{(i)} \\in \\{1, 2, \\ldots, K\\}$. Note that for ease of notation, we start the index of classes from 1, rather than from 0.\n",
    "\n",
    "Now, given a test input $x^{(i)}$, we want our hypothesis to estimate the probability that $P(y=k | x^{(i)})$ for each value of $ k = 1, \\ldots , K $, i.e. we want to estimate the probability of the class label taking on each of the K\n",
    "different possible values. Thus, our hypothesis will output a $K - $\n",
    "dimensional vector (whose elements sum to 1) giving us our $K$ estimated probabilities. Concretely, the hypothesis function (denoted by $z$) for a single input $x^{(i)}$ takes the following form:\n",
    "\n",
    "\\begin{align*}\n",
    "    z_{(w, b)}(x^{(i)}) &= \n",
    "        \\begin{bmatrix}\n",
    "           P(y=1 \\mid x^{(i)}; w, b) \\\\\n",
    "           P(y=2 \\mid x^{(i)}; w, b) \\\\\n",
    "           \\vdots \\\\\n",
    "           P(y=K \\mid x^{(i)}; w, b)\n",
    "         \\end{bmatrix} \n",
    "          &= \\frac{1}{\\sum_{j=1}^K \\exp(h^{(i)}_j)}  \n",
    "          \\begin{bmatrix}\n",
    "           \\exp(h^{(i)}_1) \\\\\n",
    "           \\exp(h^{(i)}_2) \\\\\n",
    "           \\vdots \\\\\n",
    "           \\exp(h^{(i)}_K))\n",
    "         \\end{bmatrix} \n",
    "  \\end{align*}, \n",
    "\n",
    "where $h^{(i)} = w^T x^{(i)} + b$ containing the parameters of the model. Particularly,  $w \\in \\mathbb{R}^{K \\times n}$ denotes the weight matrix, $b \\in \\mathbb{R}^K$ is the bias vector associated with each of the classes. Lastly, notice in the hypothesis function that we have a term of the form $\\frac{\\exp(⋅)}{\\sum_j \\exp(⋅)}$, this is called the softmax function and is used frequently in machine learning for multi-class classification problems since it outputs values as probabilities between 0 and 1. \n",
    "\n",
    "\n",
    "We will use the negative log-likelihood loss for training our logistic regression model. As the name suggests, it simply calculates the negative of the log likelihood of the model and is given by: \n",
    "\n",
    "\\begin{equation}\n",
    "L = - \\frac{1}{N} \\sum_{i=1}^N \\log \\hat{y}^{(i)} = - \\frac{1}{N} \\sum_{i=1}^N \\log \\left( \\frac{ e^{h^{(i)}_y} }{ \\sum_{j=1}^K e^{h^{(i)}_j} } \\right) \n",
    "\\end{equation}"
   ]
  },
  {
   "cell_type": "markdown",
   "metadata": {},
   "source": [
    "<!-- BEGIN QUESTION -->\n",
    "\n",
    "**Question 3.1 (10 points)**\n",
    "\n",
    "Now that we have defined our model and the loss function, calculate the derivative of the loss function $L$ w.r.t the weight matrix $w$ and the bias vector $b$. In other words, get the gradient update expressions for $w$ i.e. $\\frac{\\partial L}{\\partial w}$ and $b$ i.e. $\\frac{\\partial L}{\\partial b}$. "
   ]
  },
  {
   "cell_type": "markdown",
   "metadata": {},
   "source": [
    "**Hints**: \n",
    "\n",
    "1. It might be good to start by calculating the derivative of the softmax function\n",
    "2. Think about how you can get the derivative of a particular quantity when it is inside a summation. Is there a way to divide the term into sub-terms and then computing the individual gradients?\n"
   ]
  },
  {
   "cell_type": "markdown",
   "metadata": {},
   "source": [
    "**Answer 3.1**\n",
    "\n",
    "NOTE: $\\hat{y}^{(i)}$ is the model's prediction for the target label for the $i^{(th)}$ observation\n",
    "\n",
    "$$\n",
    "\\begin{aligned}\n",
    "\\hat{y}^{(i)} = \\textrm{softmax}(h^{(i)})\\\\\n",
    "\\textrm{softmax}(h^{(i)}) = \\frac{\\exp(h^{(i)})}{ \\sum_{j} \\exp{(h^{(j)})}}\n",
    "\\end{aligned}\n",
    "$$\n",
    "\n",
    "Where $$h^{(i)} = w^T x^{(i)} + b$$\n",
    "\n",
    "Using Chain derivatives we have for both $\\frac{\\partial L}{\\partial w}$ and $\\frac{\\partial L}{\\partial b}$\n",
    "\n",
    "$$\n",
    "\\begin{aligned}\n",
    "\\frac{\\partial L}{\\partial w} = \\frac{\\partial L}{\\partial \\hat{y}} \\frac{\\partial \\hat{y}}{\\partial h} \\frac{\\partial h}{\\partial w}\\\\\n",
    "\\frac{\\partial L}{\\partial b} = \\frac{\\partial L}{\\partial \\hat{y}} \\frac{\\partial \\hat{y}}{\\partial h} \\frac{\\partial h}{\\partial b}\\\\\n",
    "\\end{aligned}\n",
    "$$\n",
    "\n",
    "Now if we consider loss for a single observation we get : (Where $L^{(i)} = - \\log \\hat{y}^{(i)}$)\n",
    "\n",
    "$$\n",
    "\\begin{aligned}\n",
    "\\frac{\\partial L^{(i)}}{\\partial w} = \\frac{\\partial L^{(i)}}{\\partial \\hat{y}^{(i)}} \\frac{\\partial \\hat{y}^{(i)}}{\\partial h^{(i)}} \\frac{\\partial h^{(i)}}{\\partial w}\\\\\n",
    "\\frac{\\partial L^{(i)}}{\\partial b} = \\frac{\\partial L^{(i)}}{\\partial \\hat{y}^{(i)}} \\frac{\\partial \\hat{y}^{(i)}}{\\partial h^{(i)}} \\frac{\\partial h^{(i)}}{\\partial b}\\\\\n",
    "\\end{aligned}\n",
    "$$\n",
    "\n",
    "So this will give us\n",
    "$$\n",
    "\\begin{aligned}\n",
    "\\frac{\\partial L}{\\partial w} = -\\frac{1}{N} \\sum_{i=1}^N \\frac{\\partial L^{(i)}}{\\partial w}\\\\\n",
    "\\frac{\\partial L}{\\partial b} = -\\frac{1}{N} \\sum_{i=1}^N \\frac{\\partial L^{(i)}}{\\partial b}\\\\\n",
    "\\end{aligned}\n",
    "$$\n",
    "\n",
    "So : \n",
    "\n",
    "$$\n",
    "\\begin{aligned}\n",
    "\\frac{\\partial L^{(i)}}{\\partial \\hat{y}^{(i)}} = -\\frac{1}{\\hat{y}^{(i)}} \\tag{1}\\\\ \n",
    "\\end{aligned}\n",
    "$$\n",
    "$$\n",
    "\\begin{aligned}\n",
    "\\frac{\\partial \\hat{y}^{(i)}}{\\partial h^{(i)}} = \\hat{y}^{(i)} (1-\\hat{y}^{(i)}) \\tag{2}\\\\\n",
    "\\end{aligned}\n",
    "$$\n",
    "$$\n",
    "\\begin{aligned}\n",
    "\\frac{\\partial h^{(i)}}{\\partial w} = x^{(i)} \\tag{3}\\\\\n",
    "\\end{aligned}\n",
    "$$\n",
    "$$\n",
    "\\begin{aligned}\n",
    "\\frac{\\partial h^{(i)}}{\\partial b} = 1 \\tag{4}\\\\\n",
    "\\end{aligned}\n",
    "$$\n",
    "\n",
    "Combining (1), (2) and (3) we find that: (NOTE: $y^{(i)}$ = 1 for the target label, 0 otherwise for the $i^{(th)}$ observation)\n",
    "\n",
    "$$\n",
    "\\begin{aligned}\n",
    "\\frac{\\partial L}{\\partial w} = -\\frac{1}{N} \\sum_{i=1}^N (y^{(i)} - \\hat{y}^{(i)})x^{(i)}\\\\\n",
    "\\end{aligned}\n",
    "$$\n",
    "\n",
    "Combining (1), (2) and (4) we find that:\n",
    "\n",
    "$$\n",
    "\\begin{aligned}\n",
    "\\frac{\\partial L}{\\partial b} = -\\frac{1}{N} \\sum_{i=1}^N (y^{(i)} - \\hat{y}^{(i)})\\\\\n",
    "\\end{aligned}\n",
    "$$"
   ]
  },
  {
   "cell_type": "markdown",
   "metadata": {},
   "source": [
    "<!-- END QUESTION -->\n",
    "\n",
    "With all the theory in place, we will now implement individual functions at bring them all together at the end to train your logistic your logistic regression model!"
   ]
  },
  {
   "cell_type": "markdown",
   "metadata": {},
   "source": [
    "**Question 3.2 (2 Points)**\n",
    "Implement the `softmax` function below. As we have seen in the introduction, the softmax function is given by:\n",
    "\n",
    "\\begin{equation*}\n",
    "\\textrm{softmax}(x) = \\frac{\\exp(x)}{ \\sum_{j} \\exp{(x_j)}}\n",
    "\\end{equation*}"
   ]
  },
  {
   "cell_type": "code",
   "execution_count": 27,
   "metadata": {
    "tags": []
   },
   "outputs": [],
   "source": [
    "def softmax(x: np.ndarray) -> np.ndarray:\n",
    "    \"\"\"\n",
    "    Takes the input and applies the softmax function to it\n",
    "    \n",
    "    Args:\n",
    "        x: Numpy array of shape []\n",
    "    \n",
    "    Returns:\n",
    "        np.ndarray: the softmax-ed input\n",
    "    \"\"\"\n",
    "    return np.exp(x) / np.sum(np.exp(x), axis=1, keepdims=True)"
   ]
  },
  {
   "cell_type": "code",
   "execution_count": 28,
   "metadata": {
    "deletable": false,
    "editable": false
   },
   "outputs": [
    {
     "data": {
      "text/html": [
       "<p><strong><pre style='display: inline;'>q3.2</pre></strong> passed!</p>"
      ],
      "text/plain": [
       "q3.2 results: All test cases passed!"
      ]
     },
     "execution_count": 28,
     "metadata": {},
     "output_type": "execute_result"
    }
   ],
   "source": [
    "grader.check(\"q3.2\")"
   ]
  },
  {
   "cell_type": "markdown",
   "metadata": {},
   "source": [
    "**Question 3.3 (3 points)**\n",
    "A skeleton of the logistic regression model is given to you in the `LogisticRegressionModel` class. Implement the `__call__` function that essentially computes the output probability given the batch of inputs. "
   ]
  },
  {
   "cell_type": "code",
   "execution_count": 29,
   "metadata": {
    "tags": []
   },
   "outputs": [],
   "source": [
    "class LogisticRegressionModel:\n",
    "    def __init__(self, init_weights: np.ndarray) -> None:\n",
    "        num_classes = init_weights.shape[0]\n",
    "        # the weight matrix. Shape = [num_classes x num_features]\n",
    "        self.W = np.copy(init_weights)\n",
    "        # the bias vector. Shape = [num_classes]\n",
    "        self.b = np.zeros((num_classes))\n",
    "\n",
    "    def __call__(self, x: np.ndarray) -> np.ndarray :\n",
    "        \"\"\"\n",
    "        Computes the hypothesis function, i.e. the prediction (y_hat) of the logistic regression model        \n",
    "        \n",
    "        Args:\n",
    "            x: Numpy array of shape [batch_size x num_features] containing input mini-batch of samples\n",
    "        \n",
    "        Returns:\n",
    "            x: Numpy array of shape (shape: [batch_size x num_classes]) containing the output class probabilities \n",
    "                after applying the softmax function\n",
    "        \"\"\"\n",
    "        # HINT: Look into the documentation of np.matmul\n",
    "        \n",
    "        return softmax(x @ self.W.T + self.b)\n",
    "\n"
   ]
  },
  {
   "cell_type": "code",
   "execution_count": 30,
   "metadata": {
    "deletable": false,
    "editable": false
   },
   "outputs": [
    {
     "data": {
      "text/html": [
       "<p><strong><pre style='display: inline;'>q3.3</pre></strong> passed!</p>"
      ],
      "text/plain": [
       "q3.3 results: All test cases passed!"
      ]
     },
     "execution_count": 30,
     "metadata": {},
     "output_type": "execute_result"
    }
   ],
   "source": [
    "grader.check(\"q3.3\")"
   ]
  },
  {
   "cell_type": "markdown",
   "metadata": {},
   "source": [
    "**Question 3.4 (3 points)**\n",
    "Implement the `negative_log_likelihood` loss function given the predictions and the target labels as defined in the introduction of this section. To recap, the equation for negative log likelihood is given by:\n",
    "\\begin{equation}\n",
    "L = - \\frac{1}{N} \\sum_{i=1}^N \\log \\hat{y}^{(i)} \n",
    "\\end{equation}"
   ]
  },
  {
   "cell_type": "code",
   "execution_count": 31,
   "metadata": {
    "tags": []
   },
   "outputs": [],
   "source": [
    "def negative_log_likelihood(prediction: np.ndarray, target: np.ndarray) -> float:\n",
    "    \"\"\"\n",
    "    Computes the negative log likelihood loss between the prediction and the target\n",
    "    \n",
    "    Args:\n",
    "        prediction: Numpy array of shape [batch size x num_classes]\n",
    "        target: Numpy array of shape  [batch size, ]\n",
    "    \n",
    "    Returns:\n",
    "       (float): the negative log likelihood loss \n",
    "    \"\"\"\n",
    "    \n",
    "    batch_size = prediction.shape[0]\n",
    "\n",
    "    return -np.sum(np.log(prediction[np.arange(batch_size), target])) / batch_size"
   ]
  },
  {
   "cell_type": "code",
   "execution_count": 32,
   "metadata": {
    "deletable": false,
    "editable": false
   },
   "outputs": [
    {
     "data": {
      "text/html": [
       "<p><strong><pre style='display: inline;'>q3.4</pre></strong> passed!</p>"
      ],
      "text/plain": [
       "q3.4 results: All test cases passed!"
      ]
     },
     "execution_count": 32,
     "metadata": {},
     "output_type": "execute_result"
    }
   ],
   "source": [
    "grader.check(\"q3.4\")"
   ]
  },
  {
   "cell_type": "markdown",
   "metadata": {},
   "source": [
    "**Question 3.5 (6 points)**\n",
    "Using the gradient update expressions that you have derived in Question 3.1, implement the `compute_gradients` function below. "
   ]
  },
  {
   "cell_type": "code",
   "execution_count": 33,
   "metadata": {
    "tags": []
   },
   "outputs": [],
   "source": [
    "def compute_gradients(x: np.ndarray, prediction: np.ndarray, target: np.ndarray) -> np.ndarray:\n",
    "    \"\"\"\n",
    "    Computes the gradient of the loss function w.r.t the parameters\n",
    "    \n",
    "    Args:\n",
    "        x (np.ndarray): Numpy array of shape [batch size x num_features]\n",
    "        prediction (np.ndarray): Numpy array of shape [batch size x num_classes]\n",
    "        target (np.ndarray): Numpy array of shape  [batch size, ]\n",
    "    \n",
    "    Returns:\n",
    "        grad_W (np.ndarray): Numpy array of shape [num_classes x num_features] \n",
    "                             i.e. same as the weights matrix\n",
    "        grad_b (np.ndarray): Numpy array of shape [num_classes, ]\n",
    "    \"\"\"\n",
    "\n",
    "    # HINT: Look into the documentation of np.eye\n",
    "\n",
    "    # create a one-hot encoded matrix of shape [batch_size x num_classes]\n",
    "    one_hot = np.eye(prediction.shape[1])[target]\n",
    "\n",
    "    # compute the gradient of the loss w.r.t the weights\n",
    "    grad_W = -np.matmul((one_hot - prediction).T, x) / x.shape[0]\n",
    "\n",
    "    # compute the gradient of the loss w.r.t the bias\n",
    "    grad_b = -np.sum(one_hot - prediction, axis=0) / x.shape[0]\n",
    "\n",
    "    return grad_W, grad_b"
   ]
  },
  {
   "cell_type": "code",
   "execution_count": 34,
   "metadata": {
    "deletable": false,
    "editable": false
   },
   "outputs": [
    {
     "data": {
      "text/html": [
       "<p><strong><pre style='display: inline;'>q3.5</pre></strong> passed!</p>"
      ],
      "text/plain": [
       "q3.5 results: All test cases passed!"
      ]
     },
     "execution_count": 34,
     "metadata": {},
     "output_type": "execute_result"
    }
   ],
   "source": [
    "grader.check(\"q3.5\")"
   ]
  },
  {
   "cell_type": "markdown",
   "metadata": {},
   "source": [
    "**Question 3.6 (6 points)**\n",
    "Validation is one of the most important phases in training machine learning models. This is done so as to evaluate the learning capability of the model by testing it on the samples from the validation set. The procedure is as follows: Given the model and the batch size, iterate through the validation set to compute the loss and accuracy of the model. Note that in the validation phase, we do not compute the gradients.  \n",
    "Now, Implement the `validation` function below."
   ]
  },
  {
   "cell_type": "code",
   "execution_count": 35,
   "metadata": {
    "tags": []
   },
   "outputs": [],
   "source": [
    "def validation(model: Type[LogisticRegressionModel], val_set: np.ndarray, val_labels: np.ndarray, \n",
    "                batch_size: int) -> float:\n",
    "    \"\"\"\n",
    "    Performs validation of the given input model\n",
    "    \n",
    "    Args:\n",
    "        model (type: class): the model to be validated\n",
    "        val_set (np.ndarray): Numpy array of shape [val_size x num_features]\n",
    "        val_laels (np.ndarray): Numpy array of shape [val_size]\n",
    "        batch_size (int): Int defining the batch_size\n",
    "    \n",
    "    Returns:\n",
    "        val_loss (float): the validation loss for the entire validation set\n",
    "        val_acc (float): the validation accuracy for the entire validation set\n",
    "    \"\"\"\n",
    "\n",
    "    total_loss = 0.0\n",
    "    correct_preds = 0\n",
    "    sample_count = 0\n",
    "    batch_count = 0\n",
    "    \n",
    "    for batch, labels in iterate_samples(batch_size, val_set, val_labels, False):\n",
    "        batch_count += 1\n",
    "        sample_count += batch.shape[0]\n",
    "        prediction = model(batch)\n",
    "        total_loss += negative_log_likelihood(prediction, labels)\n",
    "        correct_preds += np.sum(np.equal(np.argmax(prediction, axis=1), labels))\n",
    "\n",
    "    validation_loss = total_loss / batch_count\n",
    "    validation_acc = correct_preds / sample_count\n",
    "    \n",
    "    return validation_loss, validation_acc"
   ]
  },
  {
   "cell_type": "code",
   "execution_count": 36,
   "metadata": {
    "deletable": false,
    "editable": false
   },
   "outputs": [
    {
     "data": {
      "text/html": [
       "<p><strong><pre style='display: inline;'>q3.6</pre></strong> passed!</p>"
      ],
      "text/plain": [
       "q3.6 results: All test cases passed!"
      ]
     },
     "execution_count": 36,
     "metadata": {},
     "output_type": "execute_result"
    }
   ],
   "source": [
    "grader.check(\"q3.6\")"
   ]
  },
  {
   "cell_type": "markdown",
   "metadata": {},
   "source": [
    "**Question 3.7 (10 points)**\n",
    "Lastly, implement the `train_one_epoch` function below. This function uses combines the functions that you have already implemented above, namely, the `LogisticRegressionModel` class, the `negative_log_likelihood`, `compute_gradients`, and the `validation` functions. This function returns all the necessary outputs required for plotting the training and validation curves as shall be seen below."
   ]
  },
  {
   "cell_type": "code",
   "execution_count": 37,
   "metadata": {
    "tags": []
   },
   "outputs": [],
   "source": [
    "def train_one_epoch(model: Type[LogisticRegressionModel],\n",
    "                    train_set: np.ndarray, train_labels: np.ndarray, \n",
    "                    val_set: np.ndarray, val_labels:np.ndarray,\n",
    "                    batch_size: int, learning_rate: float, \n",
    "                    validation_every_x_step: int) -> float:\n",
    "    \"\"\"\n",
    "    Trains the model for one epoch on the entire dataset with the given learning rate and batch size\n",
    "    \n",
    "    Args:\n",
    "        model (class): the model used to train\n",
    "        train_set (np.ndarray): Numpy array of shape [val_size x num_features]\n",
    "        train_laels (np.ndarray): Numpy array of shape [val_size]\n",
    "        val_set (np.ndarray): Numpy array of shape [val_size x num_features]\n",
    "        val_laels (np.ndarray): Numpy array of shape [val_size]\n",
    "        batch_size (int): the batch size to be used to iterate through the dataset\n",
    "        learning_rate (float): the learning rate to be used for mini-batch gradient descent optimization\n",
    "        validation_every_x_step (int): the number of steps to wait before performing validation\n",
    "    \n",
    "    Returns:\n",
    "        train_losses (list): a list of training losses\n",
    "        train_accuracies (list): a list of training accuracies\n",
    "        # train_steps (list): a list of the training batch ids, i.e. each element is the n-th batch of the training set\n",
    "        train_steps (list): a list of the number of training steps. One training step is defined as one forward pass \n",
    "                            (i.e. calculating the loss) AND one backward pass (i.e. calculating the gradients and updating the parameters) \n",
    "                            of a mini-batch of samples through the model\n",
    "        val_losses (list): a list of validation losses\n",
    "        val_accuracies (list): a list of validation accuracies\n",
    "        val_steps (list): a list of the validation steps. One validation step is defined one forward pass of the validaton mini-batch\n",
    "                            samples through the model\n",
    "    \"\"\"\n",
    "    train_losses = []\n",
    "    train_accuracies = []\n",
    "    train_steps = []\n",
    "    val_losses = []\n",
    "    val_accuracies = []\n",
    "    val_steps = []\n",
    "    step_count = 0\n",
    "\n",
    "    # Iterate through the training set and append the corresponding metrics to the list\n",
    "    for x_batch, targets in iterate_samples(batch_size, train_set, train_labels, True):\n",
    "        step_count += 1\n",
    "        prediction = model(x_batch)\n",
    "        train_loss = negative_log_likelihood(prediction, targets)\n",
    "        train_losses.append(train_loss)\n",
    "        training_accuracy = np.sum(np.equal(np.argmax(prediction, axis=1), targets)) / batch_size\n",
    "        train_accuracies.append(training_accuracy)\n",
    "        train_steps.append(step_count)\n",
    "        grad_W, grad_b = compute_gradients(x_batch, prediction, targets)\n",
    "        model.W = model.W - learning_rate * grad_W\n",
    "        model.b = model.b - learning_rate * grad_b\n",
    "\n",
    "\n",
    "        # perform validation depending on the value of `validation_every_x_step`\n",
    "        if (step_count % validation_every_x_step) == 0 or step_count == 1:\n",
    "            val_loss, val_acc = validation(model, val_set, val_labels, batch_size)\n",
    "            val_losses.append(val_loss)\n",
    "            val_accuracies.append(val_acc)\n",
    "            val_steps.append(step_count)\n",
    "        \n",
    "    return train_losses, train_accuracies, train_steps, val_losses, val_accuracies, val_steps\n",
    "\n"
   ]
  },
  {
   "cell_type": "code",
   "execution_count": 38,
   "metadata": {
    "deletable": false,
    "editable": false
   },
   "outputs": [
    {
     "data": {
      "text/html": [
       "<p><strong><pre style='display: inline;'>q3.7</pre></strong> passed!</p>"
      ],
      "text/plain": [
       "q3.7 results: All test cases passed!"
      ]
     },
     "execution_count": 38,
     "metadata": {},
     "output_type": "execute_result"
    }
   ],
   "source": [
    "grader.check(\"q3.7\")"
   ]
  },
  {
   "cell_type": "markdown",
   "metadata": {},
   "source": [
    "#### Bringing it all together\n",
    "\n",
    "Using all the functions you have implemented above, you will now train a logistic regression model on the Fashion MNIST dataset!"
   ]
  },
  {
   "cell_type": "code",
   "execution_count": 39,
   "metadata": {},
   "outputs": [],
   "source": [
    "def train_model(num_epochs: int, batch_size: int, learning_rate: float, validation_every_x_step: int, W_initial_weights: float) -> float:\n",
    "    \"\"\"\n",
    "    Trains the logistic regression model\n",
    "\n",
    "    Args:\n",
    "        num_epochs (int): Number of epochs to train the model for\n",
    "        batch_size (int): Size of the mini-batch\n",
    "        learning_rate (float): Step size for mini-batch gradient descent optimization\n",
    "        validation_every_x_step (int): Perform validation at every x-th step\n",
    "        W_initial_weights (float): Randomly initialized weight matrix\n",
    "\n",
    "    Returns:\n",
    "        train_loss: list containing training losses at each epoch\n",
    "        train_accuracy: list containing training accuracies at each epoch\n",
    "        train_step: \n",
    "        val_loss: list containing validation losses at each epoch\n",
    "        val_accuracy: list containing validation accuracies at each epoch\n",
    "        val_step:\n",
    "    \"\"\"\n",
    "\n",
    "    train_loss = []\n",
    "    train_accuracy = []\n",
    "    train_step = []\n",
    "    val_loss = []\n",
    "    val_accuracy = []\n",
    "    val_step = []\n",
    "    epoch_last_step = 0\n",
    "    \n",
    "    model = LogisticRegressionModel(W_initial_weights)\n",
    "    \n",
    "    for i in range(num_epochs):\n",
    "        epoch_train_loss, epoch_train_accuracy, epoch_train_step, \\\n",
    "             epoch_val_loss, epoch_val_accuracy, epoch_val_step = \\\n",
    "                train_one_epoch(model, train_set, train_labels, val_set, \n",
    "                    val_labels, batch_size, learning_rate, \n",
    "                    validation_every_x_step)\n",
    "\n",
    "        train_loss += epoch_train_loss\n",
    "        train_accuracy += epoch_train_accuracy\n",
    "        train_step += [step + epoch_last_step for step in epoch_train_step]\n",
    "\n",
    "        val_loss += epoch_val_loss\n",
    "        val_accuracy += epoch_val_accuracy\n",
    "        val_step += [step + epoch_last_step for step in epoch_val_step]\n",
    "\n",
    "        epoch_last_step = train_step[-1]\n",
    "        \n",
    "    return train_loss, train_accuracy, train_step, val_loss, val_accuracy, val_step"
   ]
  },
  {
   "cell_type": "code",
   "execution_count": 40,
   "metadata": {},
   "outputs": [],
   "source": [
    "# initiliaze weights from a normal distribution\n",
    "W_initial_weights = np.random.normal(0.5, 0.1, (10, 784))\n",
    "\n",
    "# train a logistic regression model\n",
    "train_loss_bs100, train_accuracy_bs100, train_step_bs100, val_loss_bs100, \\\n",
    "    val_accuracy_bs100, val_step_bs100 = \\\n",
    "        train_model(num_epochs=4, batch_size=100, learning_rate=0.1, \n",
    "        validation_every_x_step=10, W_initial_weights=W_initial_weights)"
   ]
  },
  {
   "cell_type": "markdown",
   "metadata": {},
   "source": [
    "<!-- BEGIN QUESTION -->\n",
    "\n",
    "**Question 3.8 (2 points):** As in the previous section, you are asked to plot the training and validation accuracy curves (points are associated to the type of the curves you report)."
   ]
  },
  {
   "cell_type": "code",
   "execution_count": 41,
   "metadata": {},
   "outputs": [
    {
     "data": {
      "image/png": "[encoded data removed]",
      "text/plain": [
       "<Figure size 640x480 with 1 Axes>"
      ]
     },
     "metadata": {},
     "output_type": "display_data"
    }
   ],
   "source": [
    "fig = plt.figure()\n",
    "plt.plot(train_step_bs100, train_accuracy_bs100, label='train_accuracy')\n",
    "plt.plot(val_step_bs100, val_accuracy_bs100, label='val_accuracy')\n",
    "plt.xlabel(\"Num Steps\", fontsize=14)\n",
    "plt.ylabel(\"Test Acc.\", fontsize=14)\n",
    "plt.legend()\n",
    "plt.show()"
   ]
  },
  {
   "cell_type": "markdown",
   "metadata": {},
   "source": [
    "<!-- END QUESTION -->\n",
    "\n",
    "### 4. Comparing kNN, GNB and Logistic Regression Classifiers (3 points)\n",
    "\n",
    "Nice work! Now that your logistic regression classifier works, we will compare the performance of these 3 classifiers together. \n",
    "\n",
    "We will be using a batch size of 100 and a learning rate of 0.1 to evaluate the logistic regression classifier on the test set. Ideally, extensive hyperparamter tuning must be done on the validation set to choose the best possible hyperparameter configurations for your classifier. However, one of your objectives in the next assignment will be hyperparameter tuning, hence we are giving you the best hyperparameters in this assignment!"
   ]
  },
  {
   "cell_type": "code",
   "execution_count": 42,
   "metadata": {},
   "outputs": [],
   "source": [
    "# RUN THIS CELL TO DEFINE THE FUNCTION FOR TESTING THE MODEL \n",
    "# NOTE: IT IS VERY SIMILAR TO `train_model` THAT YOU HAVE ALREADY IMPLEMENTED EXCEPT, THE 'VALIDATION' PARTS ARE CHANGED TO 'TEST'\n",
    "\n",
    "def test_model(num_epochs: int, batch_size: int, learning_rate: float, validation_every_x_step: int, W_initial_weights: float) -> float:\n",
    "    \"\"\"\n",
    "    Trains the logistic regression model\n",
    "\n",
    "    Args:\n",
    "        num_epochs (int): Number of epochs to train the model for\n",
    "        batch_size (int): Size of the mini-batch\n",
    "        learning_rate (float): Step size for mini-batch gradient descent optimization\n",
    "        validation_every_x_step (int): Perform validation at every x-th step\n",
    "        W_initial_weights (float): Randomly initialized weight matrix\n",
    "\n",
    "    Returns:\n",
    "        train_loss: list containing training losses at each epoch\n",
    "        train_accuracy: list containing training accuracies at each epoch\n",
    "        train_step: \n",
    "        test_loss: list containing test losses at each epoch\n",
    "        test_accuracy: list containing test accuracies at each epoch\n",
    "        test_step:\n",
    "    \"\"\"\n",
    "\n",
    "    train_loss = []\n",
    "    train_accuracy = []\n",
    "    train_step = []\n",
    "    test_loss = []\n",
    "    test_accuracy = []\n",
    "    test_step = []\n",
    "    epoch_last_step = 0\n",
    "    \n",
    "    model = LogisticRegressionModel(W_initial_weights)\n",
    "    \n",
    "    # note here that we have just replaced the validation set with the test set, \n",
    "    # the rest of the procedure remains the same\n",
    "    for i in range(num_epochs):\n",
    "        epoch_train_loss, epoch_train_accuracy, epoch_train_step, \\\n",
    "             epoch_test_loss, epoch_test_accuracy, epoch_test_step = \\\n",
    "                train_one_epoch(model, train_set, train_labels, test_set, \n",
    "                    test_labels, batch_size, learning_rate, \n",
    "                    validation_every_x_step)\n",
    "\n",
    "        train_loss += epoch_train_loss\n",
    "        train_accuracy += epoch_train_accuracy\n",
    "        train_step += [step + epoch_last_step for step in epoch_train_step]\n",
    "\n",
    "        test_loss += epoch_test_loss\n",
    "        test_accuracy += epoch_test_accuracy\n",
    "        test_step += [step + epoch_last_step for step in epoch_test_step]\n",
    "\n",
    "        epoch_last_step = train_step[-1]\n",
    "        \n",
    "    return train_loss, train_accuracy, train_step, test_loss, test_accuracy, test_step"
   ]
  },
  {
   "cell_type": "code",
   "execution_count": 43,
   "metadata": {},
   "outputs": [
    {
     "data": {
      "image/png": "[encoded data removed]",
      "text/plain": [
       "<Figure size 640x480 with 1 Axes>"
      ]
     },
     "metadata": {},
     "output_type": "display_data"
    },
    {
     "name": "stdout",
     "output_type": "stream",
     "text": [
      "Best test accuracy: 83.61 %\n"
     ]
    }
   ],
   "source": [
    "best_batch_size = 100\n",
    "best_lr = 0.1\n",
    "\n",
    "# Test the model!\n",
    "_ , _ , _ , \\\n",
    "     test_loss, test_accuracy, test_step = test_model(num_epochs=100, batch_size=best_batch_size, \n",
    "                                                        learning_rate=best_lr, validation_every_x_step=100, W_initial_weights=W_initial_weights)\n",
    "\n",
    "fig = plt.figure()\n",
    "plt.plot(test_step, test_accuracy, label=f\"bs={best_batch_size}, lr={best_lr}\")\n",
    "plt.title('Test Accuracy')\n",
    "plt.ylim(0.6, 0.95)\n",
    "plt.legend()\n",
    "plt.show()\n",
    "\n",
    "print(f\"Best test accuracy: {test_accuracy[-1] * 100.0} %\")"
   ]
  },
  {
   "cell_type": "markdown",
   "metadata": {},
   "source": [
    "<!-- BEGIN QUESTION -->\n",
    "\n",
    "**Question 4.1:** Report the test accuracies obtained using all the three classifiers. Which model performs the best? Why do you think this is the case? (Justify in 3-4 sentences)"
   ]
  },
  {
   "cell_type": "markdown",
   "metadata": {},
   "source": [
    "**Answer 4.1:** \n",
    "kNN accuracy = 85.01 %, GNB accuracy = 65.72 %, and Logistic regression accuracy = 83.61 % (with batch_size = 100 lr = 0.1\n",
    "\n",
    "Out of the three, kNN classifier performs the best. \n",
    "\n",
    "This is because kNN is the model that makes the more sense in this application. GNB is not really pertinent here since this model is based on assuming that features are independent which is far from being true when it comes to two consecutive pixel of an image. The logistic regression model is slightly less accurate than kNN this might be because it only support linear decision boundary"
   ]
  },
  {
   "cell_type": "markdown",
   "metadata": {},
   "source": [
    "<!-- END QUESTION -->\n",
    "\n"
   ]
  }
 ],
 "metadata": {
  "kernelspec": {
   "display_name": "Python 3.10.6 ('INF8245E')",
   "language": "python",
   "name": "python3"
  },
  "language_info": {
   "codemirror_mode": {
    "name": "ipython",
    "version": 3
   },
   "file_extension": ".py",
   "mimetype": "text/x-python",
   "name": "python",
   "nbconvert_exporter": "python",
   "pygments_lexer": "ipython3",
   "version": "3.10.6"
  },
  "vscode": {
   "interpreter": {
    "hash": "ced74347910184b5fc09677312cd31f69331553d7f21ef521433d648d0249703"
   }
  }
 },
 "nbformat": 4,
 "nbformat_minor": 2
}
